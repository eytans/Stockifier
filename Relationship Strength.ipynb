{
 "cells": [
  {
   "cell_type": "code",
   "execution_count": 1,
   "metadata": {
    "collapsed": false
   },
   "outputs": [],
   "source": [
    "from Utilities.orginizers import LearningData\n",
    "from sklearn.model_selection import KFold, cross_val_score\n",
    "from itertools import product\n",
    "from functools import partial\n",
    "from random import sample\n",
    "from multiprocessing import Pool\n",
    "from Utilities import clustering \n",
    "import matplotlib.pyplot as plt\n",
    "import Utilities\n",
    "from pandas import DataFrame\n",
    "\n",
    "pool = Pool()\n",
    "ld = LearningData()\n",
    "sc = clustering.StrengthCalc()"
   ]
  },
  {
   "cell_type": "code",
   "execution_count": null,
   "metadata": {
    "collapsed": false
   },
   "outputs": [],
   "source": [
    "min_numbers = [1,2,5,10,20,30,50]\n",
    "max_numbers = [325,300,270,250]\n",
    "steps = [1,2,5,10,20]\n",
    "tresholds = [0.3,0.4,0.5,0.6,0.7,0.8]\n",
    "\n",
    "stock_names = sample(ld.get_stock_names(), 2)\n",
    "market_names = sample(ld.get_market_names(), 2)\n",
    "\n",
    "def run_model(tup):\n",
    "    stock, market, min_number, max_number, step, threshold = tup\n",
    "    stren = sc.get_strength(stock, market, min_number=min_number, max_number=max_number, step=step, threshold=threshold)\n",
    "    return (stock, market, min_number, max_number, step, threshold, stren)\n",
    "\n",
    "models = list(map(run_model, product(stock_names, market_names, min_numbers, max_numbers, steps, tresholds)))\n",
    "\n",
    "results = DataFrame(models,columns=('stock', 'market', 'min_number', 'max_number', 'step', 'threshold', 'strength'))"
   ]
  },
  {
   "cell_type": "code",
   "execution_count": null,
   "metadata": {
    "collapsed": true
   },
   "outputs": [],
   "source": [
    "results.describe()"
   ]
  }
 ],
 "metadata": {
  "kernelspec": {
   "display_name": "Python 3",
   "language": "python",
   "name": "python3"
  },
  "language_info": {
   "codemirror_mode": {
    "name": "ipython",
    "version": 3
   },
   "file_extension": ".py",
   "mimetype": "text/x-python",
   "name": "python",
   "nbconvert_exporter": "python",
   "pygments_lexer": "ipython3",
   "version": "3.5.0"
  }
 },
 "nbformat": 4,
 "nbformat_minor": 0
}
